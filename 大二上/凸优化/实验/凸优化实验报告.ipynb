{
 "cells": [
  {
   "cell_type": "markdown",
   "metadata": {},
   "source": [
    "# 凸优化课程实验"
   ]
  },
  {
   "cell_type": "markdown",
   "metadata": {},
   "source": [
    "61518407 李浩瑞"
   ]
  },
  {
   "cell_type": "markdown",
   "metadata": {},
   "source": [
    "完成于2019.12.24 平安夜"
   ]
  },
  {
   "cell_type": "markdown",
   "metadata": {},
   "source": [
    "# 求解注水问题"
   ]
  },
  {
   "cell_type": "markdown",
   "metadata": {},
   "source": [
    "\\begin{equation}\n",
    "\\text { min } \\quad-\\sum_{i=1}^{n} \\log \\left(\\alpha_{i}+x_{i}\\right)\n",
    "\\end{equation}"
   ]
  },
  {
   "cell_type": "markdown",
   "metadata": {},
   "source": [
    "\\begin{equation}\n",
    "\\text { s.t. } \\quad x \\succeq 0, \\quad 1^{T} x=1\n",
    "\\end{equation}"
   ]
  },
  {
   "cell_type": "markdown",
   "metadata": {},
   "source": [
    "Lagrange函数："
   ]
  },
  {
   "cell_type": "markdown",
   "metadata": {},
   "source": [
    "\\begin{equation}\n",
    "L(x, \\lambda, v)=-\\sum_{i=1}^{n} \\log \\left(\\alpha_{i}+x_{i}\\right)-\\lambda^{T} x+v\\left(1^{T} x-1\\right)\n",
    "\\end{equation}"
   ]
  },
  {
   "cell_type": "markdown",
   "metadata": {},
   "source": [
    "g（）函数"
   ]
  },
  {
   "cell_type": "markdown",
   "metadata": {},
   "source": [
    "\\begin{equation}\n",
    "g(\\lambda,v)=inf _{x \\in D} L(x, \\lambda, v)\n",
    "\\end{equation}"
   ]
  },
  {
   "cell_type": "markdown",
   "metadata": {},
   "source": [
    "下面将通过KTT条件求解该问题"
   ]
  },
  {
   "cell_type": "markdown",
   "metadata": {},
   "source": [
    "# 求解KTT条件"
   ]
  },
  {
   "cell_type": "markdown",
   "metadata": {},
   "source": [
    "①原始可行性"
   ]
  },
  {
   "cell_type": "markdown",
   "metadata": {},
   "source": [
    "\\begin{equation}\n",
    " \\quad x^{*} \\succeq 0, \\quad 1^{T} x^{*}=1\n",
    "\\end{equation}"
   ]
  },
  {
   "cell_type": "markdown",
   "metadata": {},
   "source": [
    "②对偶可行性"
   ]
  },
  {
   "cell_type": "markdown",
   "metadata": {},
   "source": [
    "\\begin{equation}\n",
    "\\lambda^{*} \\succeq 0\n",
    "\\end{equation}"
   ]
  },
  {
   "cell_type": "markdown",
   "metadata": {},
   "source": [
    "③互补松弛性"
   ]
  },
  {
   "cell_type": "markdown",
   "metadata": {},
   "source": [
    "\\begin{equation}\n",
    "\\lambda_{i} * x_{i} *=0, i=1, \\ldots, n\n",
    "\\end{equation}"
   ]
  },
  {
   "cell_type": "markdown",
   "metadata": {},
   "source": [
    "④稳定性条件"
   ]
  },
  {
   "cell_type": "markdown",
   "metadata": {},
   "source": [
    "\\begin{equation}\n",
    "\\lambda_{i} * x_{i}^{*}=0, i=1, \\ldots, n\n",
    "\\end{equation}"
   ]
  },
  {
   "cell_type": "markdown",
   "metadata": {},
   "source": [
    "用②式带入⑤式中，得到"
   ]
  },
  {
   "cell_type": "markdown",
   "metadata": {},
   "source": [
    "\\begin{equation}\n",
    "-\\frac{1}{\\alpha_{i}+x_{i} *}+v^{*} \\geq 0, i=1, \\ldots, n\n",
    "\\end{equation}"
   ]
  },
  {
   "cell_type": "markdown",
   "metadata": {},
   "source": [
    "即可解得"
   ]
  },
  {
   "cell_type": "markdown",
   "metadata": {},
   "source": [
    "\\begin{equation}\n",
    "x^{*}=\\left\\{\\begin{array}{ll}{\\frac{1}{v^{*}}-\\alpha_{i}} & {v^{*}<\\frac{1}{\\alpha_{i}}} \\\\ {0} & {v^{*} \\geq \\frac{1}{\\alpha_{i}}}\\end{array}\\right.\n",
    "\\end{equation}"
   ]
  },
  {
   "cell_type": "markdown",
   "metadata": {},
   "source": [
    "即：对于已知的任意α，总可以求解出v使得x达到最优解"
   ]
  },
  {
   "cell_type": "markdown",
   "metadata": {},
   "source": [
    "由③式代入有："
   ]
  },
  {
   "cell_type": "markdown",
   "metadata": {},
   "source": [
    "\\begin{equation}\n",
    "\\sum_{i=0}^{n} \\max \\left\\{\\frac{1}{v^{*}}-\\alpha_{i}, 0\\right\\}=1\n",
    "\\end{equation}"
   ]
  },
  {
   "cell_type": "markdown",
   "metadata": {},
   "source": [
    "左式为单调函数（在左半平面上恒为0，在右半平面上单调递增），因此必有解。"
   ]
  },
  {
   "cell_type": "markdown",
   "metadata": {},
   "source": [
    "下面使用编程，通过二分法求解。"
   ]
  },
  {
   "cell_type": "code",
   "execution_count": 4,
   "metadata": {},
   "outputs": [
    {
     "name": "stdout",
     "output_type": "stream",
     "text": [
      "随机生成alpha为 6 维列向量\n",
      "1.1861660564712173\n",
      "0.3438117761005868\n",
      "0.024950814052944303\n",
      "1.3580406574519022\n",
      "1.8552521648748432\n",
      "0.13645209029760297\n",
      "二分法迭代 47 次，估计v为 1.993071180452247\n",
      "每个水池中的注水量为\n",
      "0\n",
      "0.15792645071632516\n",
      "0.47678741276396763\n",
      "0\n",
      "0\n",
      "0.36528613651930897\n",
      "目标函数的结果为 1.4055317506405465\n",
      "泳池总灌水量为 0.9999999999996018\n"
     ]
    },
    {
     "data": {
      "image/png": "[encoded data removed]",
      "text/plain": [
       "<Figure size 432x288 with 1 Axes>"
      ]
     },
     "metadata": {
      "needs_background": "light"
     },
     "output_type": "display_data"
    }
   ],
   "source": [
    "# -*- coding: utf-8 -*-\n",
    "\"\"\"\n",
    "Created on Mon Dec 23 16:13:05 2019\n",
    "\n",
    "@author: lhr\n",
    "\"\"\"\n",
    "\n",
    "import numpy as np\n",
    "import matplotlib.pyplot as plt\n",
    "import random\n",
    "\n",
    "\"\"\"\n",
    "二分法求解注水问题\n",
    "\"\"\"\n",
    "\n",
    "def alpha_gen():\n",
    "    \"\"\"\n",
    "    产生3-10行的alpha向量\n",
    "    alpha取值范围为0~2\n",
    "    \"\"\"\n",
    "    alpha=list()\n",
    "    n=random.randint(3,10)\n",
    "    print(\"随机生成alpha为\",n,\"维列向量\")\n",
    "    for i in range(0,n):\n",
    "        alpha.append(random.randint(0,1)+random.random())\n",
    "        print(alpha[i])\n",
    "    return alpha\n",
    "\n",
    "def calculate_target(alpha, x):\n",
    "    \"\"\"\n",
    "    计算目标函数数值\n",
    "    \"\"\"\n",
    "    Alpha=np.array(alpha)\n",
    "    X=np.array(x)    \n",
    "    return -(np.log2(Alpha+X).sum())\n",
    "\n",
    "def calculate_sumofmax(alpha,v):\n",
    "    \"\"\"\n",
    "    计算sigma函数值\n",
    "    \"\"\"\n",
    "    sum=0\n",
    "    for i in range(0,len(alpha)):\n",
    "        sum=sum+max((1/(v)-alpha[i]),0)\n",
    "    return sum\n",
    "\n",
    "def fun(alpha,v):\n",
    "    \"\"\"\n",
    "    需要求解函数零点的函数\n",
    "    \"\"\"\n",
    "    return (calculate_sumofmax(alpha,v)-1)\n",
    "\n",
    "def fill_water(alpha):\n",
    "    \"\"\"\n",
    "    二分法进行水池灌水\n",
    "    上界为100，下界为0.00001，进行二分\n",
    "    \"\"\"\n",
    "    a = 0.000000000001\n",
    "    b = 100\n",
    "    c = 0.000000000001\n",
    "    i=100003\n",
    "    while(i>=2):\n",
    "        i-=1;\n",
    "        v = (a + b)/2\n",
    "        if fun(alpha,v)==0:\n",
    "            break\n",
    "        elif ( fun(alpha,v)\n",
    "        *fun(alpha,a)<0 ):\n",
    "            b = v\n",
    "        elif (fun(alpha,v)\n",
    "        *fun(alpha,a)>0 ):\n",
    "            a = v\n",
    "        elif (a > b):\n",
    "           print (\"0.00000001,1范围内无解\")\n",
    "        elif(i<=3):\n",
    "            print(\"100000次迭代无结果\")\n",
    "            break\n",
    "        if abs(a - b)< c:\n",
    "            break\n",
    "    print(\"二分法迭代\",100003-i,\"次，估计v为\",v)\n",
    "    return v\n",
    "\n",
    "def drawwaterpool(v,alpha):\n",
    "    \"\"\"\n",
    "    绘制水池图像\n",
    "    通过plt的单张画布特性实现重合\n",
    "    \"\"\"\n",
    "    # 构建数据\n",
    "    water_data=list()\n",
    "    pool_data=list()\n",
    "    x_data =list()\n",
    "    for i in range(0,len(alpha)):\n",
    "        water_data.append(1/v)\n",
    "        x_data.append(str(i))\n",
    "        pool_data.append(alpha[i])\n",
    "    # 绘图\n",
    "    #顺序不可颠倒\n",
    "    plt.axhline(y=1/v, color='lightblue', linestyle='-')\n",
    "    plt.bar(x=x_data, height=water_data, label='water', color='steelblue',width=1)\n",
    "    plt.bar(x=x_data, height=pool_data, label='pool', color='darkorange', width=1)\n",
    "    plt.legend()\n",
    "    plt.show()\n",
    "\n",
    "if __name__==\"__main__\":\n",
    "    x=list()#记录每个池子的灌水量\n",
    "    filledwater=0#记录总水量\n",
    "    #产生alpha\n",
    "    alpha=alpha_gen()\n",
    "    #计算v\n",
    "    v=fill_water(alpha)\n",
    "    print(\"每个水池中的注水量为\")\n",
    "    for i in range(0,len(alpha)):\n",
    "        x.append(max(0,(1/v)-alpha[i]))\n",
    "        print(x[i])\n",
    "        filledwater+=x[i]\n",
    "    print(\"目标函数的结果为\",calculate_target(alpha,x))\n",
    "    print(\"泳池总灌水量为\",filledwater)\n",
    "    #绘制水池图像\n",
    "    drawwaterpool(v,alpha)"
   ]
  },
  {
   "cell_type": "markdown",
   "metadata": {},
   "source": [
    "观察到水池注水量x相加和为1，说明求解结果正确"
   ]
  },
  {
   "cell_type": "code",
   "execution_count": null,
   "metadata": {
    "collapsed": true
   },
   "outputs": [],
   "source": []
  }
 ],
 "metadata": {
  "kernelspec": {
   "display_name": "Python 3",
   "language": "python",
   "name": "python3"
  },
  "language_info": {
   "codemirror_mode": {
    "name": "ipython",
    "version": 3
   },
   "file_extension": ".py",
   "mimetype": "text/x-python",
   "name": "python",
   "nbconvert_exporter": "python",
   "pygments_lexer": "ipython3",
   "version": "3.6.2"
  },
  "latex_envs": {
   "LaTeX_envs_menu_present": true,
   "autoclose": false,
   "autocomplete": true,
   "bibliofile": "biblio.bib",
   "cite_by": "apalike",
   "current_citInitial": 1,
   "eqLabelWithNumbers": true,
   "eqNumInitial": 1,
   "hotkeys": {
    "equation": "Ctrl-E",
    "itemize": "Ctrl-I"
   },
   "labels_anchors": false,
   "latex_user_defs": false,
   "report_style_numbering": false,
   "user_envs_cfg": false
  },
  "toc": {
   "base_numbering": 1,
   "nav_menu": {},
   "number_sections": true,
   "sideBar": true,
   "skip_h1_title": false,
   "title_cell": "Table of Contents",
   "title_sidebar": "Contents",
   "toc_cell": false,
   "toc_position": {},
   "toc_section_display": true,
   "toc_window_display": false
  }
 },
 "nbformat": 4,
 "nbformat_minor": 2
}
